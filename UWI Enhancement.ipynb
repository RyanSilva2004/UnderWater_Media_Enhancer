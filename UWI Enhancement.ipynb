{
  "cells": [
    {
      "cell_type": "markdown",
      "metadata": {
        "id": "0ZRtX4SydQFX"
      },
      "source": [
        "# **Under Water Image Enhacement Based on DIP Concepts**\n",
        "\n",
        "\n",
        "\n"
      ]
    },
    {
      "cell_type": "code",
      "execution_count": 1,
      "metadata": {},
      "outputs": [
        {
          "name": "stdout",
          "output_type": "stream",
          "text": [
            "Hello World\n"
          ]
        }
      ],
      "source": [
        "print('Hello World')"
      ]
    },
    {
      "cell_type": "markdown",
      "metadata": {
        "id": "HtMD8gvZfVwj"
      },
      "source": [
        "***DIP Concepts Used In The Project***\n",
        "\n",
        "\n",
        "---\n",
        "\n",
        "\n",
        "1.   Image Enhancement\n",
        "2.   Histogram Analysis (Understanding intensity distribution)\n",
        "3.   Point Processing Techniques\n",
        "     *     Contrast Stretching\n",
        "     *     Histogram Equalization\n",
        "4.   Spatial Domain Enhancement\n",
        "5.   Filtering\n",
        "     *     Linear Domain Filtering\n",
        "     *     Non-Linear Domain Filtering\n",
        "6.   Color Image Processing\n",
        "7.   **Dark Channel Prior (DCP) Approach**\n",
        "\n",
        "\n"
      ]
    },
    {
      "cell_type": "markdown",
      "metadata": {
        "id": "JWpz7NJWgmu5"
      },
      "source": [
        "***Team Members***\n",
        "\n",
        "\n",
        "---\n",
        "\n",
        "\n",
        "\n",
        "*   COHNDSE232F-045        **K D R Silva**\n",
        "*   COHNDSE232F-044        **S M A D V D Sammandapperuma**\n",
        "*   COHNDSE232F-100        **K A I Perera**\n",
        "\n",
        "\n",
        "\n",
        "\n"
      ]
    }
  ],
  "metadata": {
    "colab": {
      "provenance": []
    },
    "kernelspec": {
      "display_name": "Python 3",
      "name": "python3"
    },
    "language_info": {
      "codemirror_mode": {
        "name": "ipython",
        "version": 3
      },
      "file_extension": ".py",
      "mimetype": "text/x-python",
      "name": "python",
      "nbconvert_exporter": "python",
      "pygments_lexer": "ipython3",
      "version": "3.11.5"
    }
  },
  "nbformat": 4,
  "nbformat_minor": 0
}
